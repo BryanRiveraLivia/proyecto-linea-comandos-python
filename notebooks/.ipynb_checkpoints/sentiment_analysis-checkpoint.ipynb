{
 "cells": [
  {
   "cell_type": "code",
   "execution_count": 2,
   "id": "843e602d-4c54-4bcc-ad92-4d1da752f0b1",
   "metadata": {},
   "outputs": [
    {
     "name": "stdout",
     "output_type": "stream",
     "text": [
      "Collecting ipywidgets\n",
      "  Downloading ipywidgets-8.1.5-py3-none-any.whl.metadata (2.3 kB)\n",
      "Requirement already satisfied: comm>=0.1.3 in c:\\programdata\\anaconda3\\envs\\proycomandos_v2\\lib\\site-packages (from ipywidgets) (0.2.1)\n",
      "Requirement already satisfied: ipython>=6.1.0 in c:\\programdata\\anaconda3\\envs\\proycomandos_v2\\lib\\site-packages (from ipywidgets) (8.15.0)\n",
      "Requirement already satisfied: traitlets>=4.3.1 in c:\\programdata\\anaconda3\\envs\\proycomandos_v2\\lib\\site-packages (from ipywidgets) (5.14.3)\n",
      "Collecting widgetsnbextension~=4.0.12 (from ipywidgets)\n",
      "  Downloading widgetsnbextension-4.0.13-py3-none-any.whl.metadata (1.6 kB)\n",
      "Collecting jupyterlab-widgets~=3.0.12 (from ipywidgets)\n",
      "  Downloading jupyterlab_widgets-3.0.13-py3-none-any.whl.metadata (4.1 kB)\n",
      "Requirement already satisfied: backcall in c:\\programdata\\anaconda3\\envs\\proycomandos_v2\\lib\\site-packages (from ipython>=6.1.0->ipywidgets) (0.2.0)\n",
      "Requirement already satisfied: decorator in c:\\programdata\\anaconda3\\envs\\proycomandos_v2\\lib\\site-packages (from ipython>=6.1.0->ipywidgets) (5.1.1)\n",
      "Requirement already satisfied: jedi>=0.16 in c:\\programdata\\anaconda3\\envs\\proycomandos_v2\\lib\\site-packages (from ipython>=6.1.0->ipywidgets) (0.19.2)\n",
      "Requirement already satisfied: matplotlib-inline in c:\\programdata\\anaconda3\\envs\\proycomandos_v2\\lib\\site-packages (from ipython>=6.1.0->ipywidgets) (0.1.6)\n",
      "Requirement already satisfied: pickleshare in c:\\programdata\\anaconda3\\envs\\proycomandos_v2\\lib\\site-packages (from ipython>=6.1.0->ipywidgets) (0.7.5)\n",
      "Requirement already satisfied: prompt-toolkit!=3.0.37,<3.1.0,>=3.0.30 in c:\\programdata\\anaconda3\\envs\\proycomandos_v2\\lib\\site-packages (from ipython>=6.1.0->ipywidgets) (3.0.43)\n",
      "Requirement already satisfied: pygments>=2.4.0 in c:\\programdata\\anaconda3\\envs\\proycomandos_v2\\lib\\site-packages (from ipython>=6.1.0->ipywidgets) (2.15.1)\n",
      "Requirement already satisfied: stack-data in c:\\programdata\\anaconda3\\envs\\proycomandos_v2\\lib\\site-packages (from ipython>=6.1.0->ipywidgets) (0.2.0)\n",
      "Requirement already satisfied: typing-extensions in c:\\programdata\\anaconda3\\envs\\proycomandos_v2\\lib\\site-packages (from ipython>=6.1.0->ipywidgets) (4.12.2)\n",
      "Requirement already satisfied: exceptiongroup in c:\\programdata\\anaconda3\\envs\\proycomandos_v2\\lib\\site-packages (from ipython>=6.1.0->ipywidgets) (1.2.0)\n",
      "Requirement already satisfied: colorama in c:\\programdata\\anaconda3\\envs\\proycomandos_v2\\lib\\site-packages (from ipython>=6.1.0->ipywidgets) (0.4.6)\n",
      "Requirement already satisfied: parso<0.9.0,>=0.8.4 in c:\\programdata\\anaconda3\\envs\\proycomandos_v2\\lib\\site-packages (from jedi>=0.16->ipython>=6.1.0->ipywidgets) (0.8.4)\n",
      "Requirement already satisfied: wcwidth in c:\\programdata\\anaconda3\\envs\\proycomandos_v2\\lib\\site-packages (from prompt-toolkit!=3.0.37,<3.1.0,>=3.0.30->ipython>=6.1.0->ipywidgets) (0.2.5)\n",
      "Requirement already satisfied: executing in c:\\programdata\\anaconda3\\envs\\proycomandos_v2\\lib\\site-packages (from stack-data->ipython>=6.1.0->ipywidgets) (0.8.3)\n",
      "Requirement already satisfied: asttokens in c:\\programdata\\anaconda3\\envs\\proycomandos_v2\\lib\\site-packages (from stack-data->ipython>=6.1.0->ipywidgets) (2.0.5)\n",
      "Requirement already satisfied: pure-eval in c:\\programdata\\anaconda3\\envs\\proycomandos_v2\\lib\\site-packages (from stack-data->ipython>=6.1.0->ipywidgets) (0.2.2)\n",
      "Requirement already satisfied: six in c:\\programdata\\anaconda3\\envs\\proycomandos_v2\\lib\\site-packages (from asttokens->stack-data->ipython>=6.1.0->ipywidgets) (1.16.0)\n",
      "Downloading ipywidgets-8.1.5-py3-none-any.whl (139 kB)\n",
      "Downloading jupyterlab_widgets-3.0.13-py3-none-any.whl (214 kB)\n",
      "Downloading widgetsnbextension-4.0.13-py3-none-any.whl (2.3 MB)\n",
      "   ---------------------------------------- 0.0/2.3 MB ? eta -:--:--\n",
      "   ---------------------------------------- 2.3/2.3 MB 44.1 MB/s eta 0:00:00\n",
      "Installing collected packages: widgetsnbextension, jupyterlab-widgets, ipywidgets\n",
      "Successfully installed ipywidgets-8.1.5 jupyterlab-widgets-3.0.13 widgetsnbextension-4.0.13\n",
      "Note: you may need to restart the kernel to use updated packages.\n"
     ]
    }
   ],
   "source": [
    "pip install ipywidgets"
   ]
  },
  {
   "cell_type": "code",
   "execution_count": 3,
   "id": "88a14d6d-8bcb-44a9-ba47-a75833e93848",
   "metadata": {},
   "outputs": [],
   "source": [
    "import json\n",
    "import os\n",
    "import nltk\n",
    "from nltk.corpus import stopwords\n",
    "from nltk.tokenize import word_tokenize\n",
    "from nltk.stem import WordNetLemmatizer\n",
    "from transformers import pipeline\n",
    "import matplotlib.pyplot as plt"
   ]
  },
  {
   "cell_type": "code",
   "execution_count": 6,
   "id": "73f777ce-d0b6-462f-b7a0-c8703893f959",
   "metadata": {},
   "outputs": [],
   "source": [
    "# Función para preprocesar texto\n",
    "def preprocess_text(text):\n",
    "    text = text.lower()  # Convertir a minúsculas\n",
    "    tokens = word_tokenize(text)  # Tokenización\n",
    "    tokens = [token for token in tokens if token.isalnum()]  # Eliminar no alfanuméricos\n",
    "    stop_words = set(stopwords.words('english'))  # Palabras irrelevantes\n",
    "    tokens = [token for token in tokens if token not in stop_words]\n",
    "    lemmatizer = WordNetLemmatizer()\n",
    "    tokens = [lemmatizer.lemmatize(token) for token in tokens]  # Lematización\n",
    "    return \" \".join(tokens)\n",
    "\n",
    "# Función para cargar reseñas desde JSONL\n",
    "def load_reviews(file_path):\n",
    "    reviews = []\n",
    "    try:\n",
    "        with open(file_path, 'r') as file:\n",
    "            for line in file:\n",
    "                review = json.loads(line.strip())\n",
    "                reviews.append(review[\"text\"])\n",
    "    except FileNotFoundError:\n",
    "        print(f\"Error: Archivo no encontrado en la ruta {file_path}.\")\n",
    "    except KeyError:\n",
    "        print(\"Error: No se encontró la clave 'text' en algunas reseñas.\")\n",
    "    return reviews\n",
    "\n",
    "# Función para analizar sentimientos\n",
    "def analyze_sentiments(reviews):\n",
    "    print(\"Iniciando análisis de sentimientos...\")\n",
    "    classifier = pipeline(\"sentiment-analysis\", model=\"nlptown/bert-base-multilingual-uncased-sentiment\")\n",
    "    sentiments = []\n",
    "    for review in reviews:\n",
    "        result = classifier(review)[0]\n",
    "        sentiments.append(result[\"label\"])  # Etiquetas como \"1 star\", \"5 stars\"\n",
    "    return sentiments\n",
    "\n",
    "# Función para categorizar sentimientos\n",
    "def categorize_sentiments(sentiments):\n",
    "    categories = {\"Insatisfecho\": 0, \"Neutral\": 0, \"Satisfecho\": 0}\n",
    "    for sentiment in sentiments:\n",
    "        if \"1 star\" in sentiment or \"2 stars\" in sentiment:\n",
    "            categories[\"Insatisfecho\"] += 1\n",
    "        elif \"3 stars\" in sentiment:\n",
    "            categories[\"Neutral\"] += 1\n",
    "        elif \"4 stars\" in sentiment or \"5 stars\" in sentiment:\n",
    "            categories[\"Satisfecho\"] += 1\n",
    "    return categories\n",
    "\n",
    "# Función para graficar resultados\n",
    "def plot_results(categories):\n",
    "    print(\"Generando gráfica...\")\n",
    "    plt.bar(categories.keys(), categories.values(), color=['red', 'yellow', 'green'])\n",
    "    plt.title(\"Análisis de Sentimientos - Reseñas de Gift Cards\")\n",
    "    plt.xlabel(\"Categorías\")\n",
    "    plt.ylabel(\"Cantidad de Reseñas\")\n",
    "    plt.show()\n"
   ]
  },
  {
   "cell_type": "code",
   "execution_count": 8,
   "id": "0e3086e6-1703-495b-a379-45d5c8777715",
   "metadata": {},
   "outputs": [
    {
     "name": "stdout",
     "output_type": "stream",
     "text": [
      "Se cargaron 100 reseñas.\n"
     ]
    }
   ],
   "source": [
    "BASE_DIR = os.getcwd()  # Obtener el directorio actual\n",
    "file_path = os.path.join(BASE_DIR, \"../data\", \"Gift_Cards_reviews.jsonl\")  # Ruta al archivo JSONL\n",
    "\n",
    "# Cargar las reseñas\n",
    "reviews = load_reviews(file_path)\n",
    "print(f\"Se cargaron {len(reviews)} reseñas.\")\n"
   ]
  },
  {
   "cell_type": "code",
   "execution_count": 9,
   "id": "dce2a5d6-d213-4b5f-af42-05c2d419021e",
   "metadata": {},
   "outputs": [
    {
     "name": "stdout",
     "output_type": "stream",
     "text": [
      "Primeras 5 reseñas preprocesadas: ['amazon money always good', 'always perfect gift never given one someone seem act disappointed opposite thrilled excited bit spree always perfect size color arrives 1 day case never late lot card chose thank birthday wedding baby many work many occasion', 'person hard shop amazon gift card p e r f e c man woman matter hobby lifestyle age pick forget mention gift check gift card option ordered many year always received glee woo hoo looking great fit size best', 'tin nice touch pretty large 4 34 diameter 34 thick added pretty red ribbon perfect love shopping amazon arrived quickly prime think ship gift card super fast like night case need fast gift', 'bought pack starbucks gift card ive given friend gave 2 br daughter used one recently card cashier check balance card forgotten gift card yes 2 year later decided use found decline value random amount embarrassed given gift friend receiving gift card going tell able cover order card gave']\n"
     ]
    }
   ],
   "source": [
    "# Preprocesar las reseñas\n",
    "preprocessed_reviews = [preprocess_text(review) for review in reviews]\n",
    "print(f\"Primeras 5 reseñas preprocesadas: {preprocessed_reviews[:5]}\")\n"
   ]
  },
  {
   "cell_type": "code",
   "execution_count": 10,
   "id": "dc0fcde7-bd2f-4cb7-a3f8-cec7fda26fcb",
   "metadata": {},
   "outputs": [
    {
     "name": "stdout",
     "output_type": "stream",
     "text": [
      "Iniciando análisis de sentimientos...\n"
     ]
    },
    {
     "name": "stderr",
     "output_type": "stream",
     "text": [
      "Device set to use cpu\n"
     ]
    },
    {
     "name": "stdout",
     "output_type": "stream",
     "text": [
      "Primeros 5 resultados de sentimientos: ['5 stars', '5 stars', '5 stars', '5 stars', '1 star']\n"
     ]
    }
   ],
   "source": [
    "# Analizar sentimientos\n",
    "sentiments = analyze_sentiments(preprocessed_reviews)\n",
    "print(f\"Primeros 5 resultados de sentimientos: {sentiments[:5]}\")\n"
   ]
  },
  {
   "cell_type": "code",
   "execution_count": 11,
   "id": "2ede91a0-da53-4109-8190-55fab3fde510",
   "metadata": {},
   "outputs": [
    {
     "name": "stdout",
     "output_type": "stream",
     "text": [
      "Resultados clasificados: {'Insatisfecho': 12, 'Neutral': 4, 'Satisfecho': 84}\n"
     ]
    }
   ],
   "source": [
    "# Clasificar sentimientos\n",
    "categories = categorize_sentiments(sentiments)\n",
    "print(f\"Resultados clasificados: {categories}\")\n"
   ]
  },
  {
   "cell_type": "code",
   "execution_count": 12,
   "id": "6b7fa09a-364d-4b4f-ae8e-2ab6a3509ce1",
   "metadata": {},
   "outputs": [
    {
     "name": "stdout",
     "output_type": "stream",
     "text": [
      "Generando gráfica...\n"
     ]
    },
    {
     "data": {
      "image/png": "[encoded data removed]",
      "text/plain": [
       "<Figure size 640x480 with 1 Axes>"
      ]
     },
     "metadata": {},
     "output_type": "display_data"
    }
   ],
   "source": [
    "# Graficar resultados\n",
    "plot_results(categories)\n"
   ]
  },
  {
   "cell_type": "code",
   "execution_count": null,
   "id": "f003ea86-df6d-4737-aa79-9a973322cba4",
   "metadata": {},
   "outputs": [],
   "source": []
  }
 ],
 "metadata": {
  "kernelspec": {
   "display_name": "Python 3 (ipykernel)",
   "language": "python",
   "name": "python3"
  },
  "language_info": {
   "codemirror_mode": {
    "name": "ipython",
    "version": 3
   },
   "file_extension": ".py",
   "mimetype": "text/x-python",
   "name": "python",
   "nbconvert_exporter": "python",
   "pygments_lexer": "ipython3",
   "version": "3.9.21"
  }
 },
 "nbformat": 4,
 "nbformat_minor": 5
}
